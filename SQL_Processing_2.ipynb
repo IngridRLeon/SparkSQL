{
 "cells": [
  {
   "cell_type": "code",
   "execution_count": 1,
   "metadata": {},
   "outputs": [],
   "source": [
    "from pyspark.sql import SparkSession\n",
    "from pyspark.sql.functions import col\n",
    "\n",
    "from pyspark.ml.feature import StandardScaler\n",
    "from pyspark.ml.feature import VectorAssembler"
   ]
  },
  {
   "cell_type": "markdown",
   "metadata": {},
   "source": [
    "## SPARK SESSION"
   ]
  },
  {
   "cell_type": "code",
   "execution_count": 2,
   "metadata": {},
   "outputs": [],
   "source": [
    "spark = SparkSession.builder.appName(\"sparkhive\").enableHiveSupport().getOrCreate()"
   ]
  },
  {
   "cell_type": "markdown",
   "metadata": {},
   "source": [
    "## Data Extraction from Hive"
   ]
  },
  {
   "cell_type": "code",
   "execution_count": 3,
   "metadata": {},
   "outputs": [],
   "source": [
    "#We got the historical data from Hive to build our training dataset\n",
    "df = spark.sql(\"SELECT * FROM fraud_project.fraud_full_load_external\")"
   ]
  },
  {
   "cell_type": "code",
   "execution_count": 17,
   "metadata": {},
   "outputs": [
    {
     "name": "stdout",
     "output_type": "stream",
     "text": [
      "+----+----------------+---------+-----------+-------------+--------------+-----------+--------------+--------------+-------+--------------+-------+\n",
      "|step|transaction_type|   amount|   nameorig|oldbalanceorg|newbalanceorig|   namedest|oldbalancedest|newbalancedest|isfraud|isflaggedfraud| row_id|\n",
      "+----+----------------+---------+-----------+-------------+--------------+-----------+--------------+--------------+-------+--------------+-------+\n",
      "| 157|        CASH_OUT|243195.42| C557292767|      30945.0|           0.0|C2133715645|     247810.02|     443321.12|      0|             0|1000001|\n",
      "| 157|         PAYMENT| 26450.15| C547756324|        139.0|           0.0| M366988082|           0.0|           0.0|      0|             0|1000002|\n",
      "| 157|        CASH_OUT| 200987.4|C2119056835|          0.0|           0.0|C1913140449|     3156111.5|     3357099.0|      0|             0|1000003|\n",
      "| 157|         PAYMENT|  5636.54|C1661110193|     101817.0|      96180.46|M1937624524|           0.0|           0.0|      0|             0|1000004|\n",
      "| 157|         CASH_IN|147929.05| C412094154|     429283.0|     577212.06|C1004252689|           0.0|           0.0|      0|             0|1000005|\n",
      "| 157|         CASH_IN|  5907.47| C390043710|    577212.06|      583119.5| C106146252|     252544.69|     246637.22|      0|             0|1000006|\n",
      "| 157|         CASH_IN|  92038.0|C1626847847|     583119.5|      675157.5|  C93011991|     1706152.1|     1503784.6|      0|             0|1000007|\n",
      "| 157|         CASH_IN|228600.89|C2113472536|     675157.5|      903758.4| C119254537|     322358.03|      93757.14|      0|             0|1000008|\n",
      "| 157|         CASH_IN|158538.05|C1695006515|     903758.4|     1062296.5|C1264115338|     259735.77|     101197.72|      0|             0|1000009|\n",
      "| 157|         CASH_IN|118299.77| C244458949|    1062296.5|     1180596.2|C1636422394|     1320525.8|     1202225.9|      0|             0|1000010|\n",
      "| 157|         CASH_IN|251789.25|C1399554802|    1180596.2|     1432385.5|C1893262960|      908863.3|     657074.06|      0|             0|1000011|\n",
      "| 157|         CASH_IN|102289.29|C1718085967|    1432385.5|     1534674.8|   C9558820|     3278373.2|     3315251.8|      0|             0|1000012|\n",
      "| 157|         CASH_IN| 36389.95|C1052851351|    1534674.8|     1571064.8| C938182311|     6513618.5|     6477228.5|      0|             0|1000013|\n",
      "| 157|         CASH_IN|271588.12| C568494727|    1571064.8|     1842652.9|C1303250233|      374031.1|     102442.95|      0|             0|1000014|\n",
      "| 157|         CASH_IN| 80458.46| C772927579|    1842652.9|     1923111.2| C597212636|     468329.44|     387870.97|      0|             0|1000015|\n",
      "| 157|         CASH_IN|112767.06|C2003126599|    1923111.2|     2035878.4| C636031085|     210674.39|      97907.33|      0|             0|1000016|\n",
      "| 157|         CASH_IN|223088.08|C1081599672|    2035878.4|     2258966.5|C1699046512|      862335.7|     741522.44|      0|             0|1000017|\n",
      "| 157|         CASH_IN|234682.12|C1970596483|    2258966.5|     2493648.5|C2030713675|    1026879.06|      792197.0|      0|             0|1000018|\n",
      "| 157|         CASH_IN|110352.42|C1413893982|    2493648.5|     2604001.0|C1898494002|     253637.19|     143284.75|      0|             0|1000019|\n",
      "| 157|         PAYMENT|  4003.76| C154409952|      26497.0|      22493.24|M1988722264|           0.0|           0.0|      0|             0|1000020|\n",
      "+----+----------------+---------+-----------+-------------+--------------+-----------+--------------+--------------+-------+--------------+-------+\n",
      "only showing top 20 rows\n",
      "\n"
     ]
    }
   ],
   "source": [
    "df.show()"
   ]
  },
  {
   "cell_type": "markdown",
   "metadata": {},
   "source": [
    "## Transformation\n",
    "#Null Values #Duplicates #Feature selection #Scaling"
   ]
  },
  {
   "cell_type": "code",
   "execution_count": 18,
   "metadata": {},
   "outputs": [
    {
     "name": "stdout",
     "output_type": "stream",
     "text": [
      "Null count in 'step': 0\n",
      "Null count in 'transaction_type': 0\n",
      "Null count in 'amount': 0\n",
      "Null count in 'nameorig': 0\n",
      "Null count in 'oldbalanceorg': 0\n",
      "Null count in 'newbalanceorig': 0\n",
      "Null count in 'namedest': 0\n",
      "Null count in 'oldbalancedest': 0\n",
      "Null count in 'newbalancedest': 0\n",
      "Null count in 'isfraud': 0\n",
      "Null count in 'isflaggedfraud': 0\n",
      "Null count in 'row_id': 0\n"
     ]
    }
   ],
   "source": [
    "#Checking for null values\n",
    "columns = df.columns\n",
    "\n",
    "# Count null values for each column\n",
    "null_counts_per_column = [df.where(col(c).isNull()).count() for c in columns]\n",
    "\n",
    "# Display the null counts for each column\n",
    "for col_name, null_count in zip(columns, null_counts_per_column):\n",
    "    print(f\"Null count in '{col_name}': {null_count}\")\n",
    "    \n",
    "#Imputation techniques "
   ]
  },
  {
   "cell_type": "code",
   "execution_count": null,
   "metadata": {},
   "outputs": [],
   "source": [
    "#Checking for duplicated rows\n",
    "# Count the total number of rows in the original DataFrame\n",
    "total_rows = df.count()\n",
    "\n",
    "# Count the number of rows in the deduplicated DataFrame\n",
    "deduplicated_rows = df.dropDuplicates().count()\n",
    "\n",
    "# Calculate the number of duplicate rows\n",
    "duplicate_count = total_rows - deduplicated_rows\n",
    "\n",
    "print(\"Total Rows:\", total_rows)\n",
    "print(\"Duplicate Rows:\", duplicate_count)\n",
    "\n",
    "# Remove exact duplicates from the entire DataFrame\n",
    "deduplicated_df = df.dropDuplicates()"
   ]
  },
  {
   "cell_type": "code",
   "execution_count": 4,
   "metadata": {},
   "outputs": [
    {
     "name": "stdout",
     "output_type": "stream",
     "text": [
      "+-------+----------------+---------+-------------+--------------+--------------+--------------+-------+\n",
      "| row_id|transaction_type|   amount|oldbalanceorg|newbalanceorig|oldbalancedest|newbalancedest|isfraud|\n",
      "+-------+----------------+---------+-------------+--------------+--------------+--------------+-------+\n",
      "|1000001|        CASH_OUT|243195.42|      30945.0|           0.0|     247810.02|     443321.12|      0|\n",
      "|1000002|         PAYMENT| 26450.15|        139.0|           0.0|           0.0|           0.0|      0|\n",
      "|1000003|        CASH_OUT| 200987.4|          0.0|           0.0|     3156111.5|     3357099.0|      0|\n",
      "|1000004|         PAYMENT|  5636.54|     101817.0|      96180.46|           0.0|           0.0|      0|\n",
      "|1000005|         CASH_IN|147929.05|     429283.0|     577212.06|           0.0|           0.0|      0|\n",
      "|1000006|         CASH_IN|  5907.47|    577212.06|      583119.5|     252544.69|     246637.22|      0|\n",
      "|1000007|         CASH_IN|  92038.0|     583119.5|      675157.5|     1706152.1|     1503784.6|      0|\n",
      "|1000008|         CASH_IN|228600.89|     675157.5|      903758.4|     322358.03|      93757.14|      0|\n",
      "|1000009|         CASH_IN|158538.05|     903758.4|     1062296.5|     259735.77|     101197.72|      0|\n",
      "|1000010|         CASH_IN|118299.77|    1062296.5|     1180596.2|     1320525.8|     1202225.9|      0|\n",
      "|1000011|         CASH_IN|251789.25|    1180596.2|     1432385.5|      908863.3|     657074.06|      0|\n",
      "|1000012|         CASH_IN|102289.29|    1432385.5|     1534674.8|     3278373.2|     3315251.8|      0|\n",
      "|1000013|         CASH_IN| 36389.95|    1534674.8|     1571064.8|     6513618.5|     6477228.5|      0|\n",
      "|1000014|         CASH_IN|271588.12|    1571064.8|     1842652.9|      374031.1|     102442.95|      0|\n",
      "|1000015|         CASH_IN| 80458.46|    1842652.9|     1923111.2|     468329.44|     387870.97|      0|\n",
      "|1000016|         CASH_IN|112767.06|    1923111.2|     2035878.4|     210674.39|      97907.33|      0|\n",
      "|1000017|         CASH_IN|223088.08|    2035878.4|     2258966.5|      862335.7|     741522.44|      0|\n",
      "|1000018|         CASH_IN|234682.12|    2258966.5|     2493648.5|    1026879.06|      792197.0|      0|\n",
      "|1000019|         CASH_IN|110352.42|    2493648.5|     2604001.0|     253637.19|     143284.75|      0|\n",
      "|1000020|         PAYMENT|  4003.76|      26497.0|      22493.24|           0.0|           0.0|      0|\n",
      "+-------+----------------+---------+-------------+--------------+--------------+--------------+-------+\n",
      "only showing top 20 rows\n",
      "\n"
     ]
    }
   ],
   "source": [
    "#Feature Selection\n",
    "selected_columns = [\"row_id\",\"transaction_type\",\"amount\", \"oldbalanceorg\", \"newbalanceorig\", \"oldbalancedest\", \"newbalancedest\", \"isfraud\"]\n",
    "df_new = df.select(*selected_columns)\n",
    "df_new.show()"
   ]
  },
  {
   "cell_type": "code",
   "execution_count": 19,
   "metadata": {},
   "outputs": [
    {
     "name": "stdout",
     "output_type": "stream",
     "text": [
      "root\n",
      " |-- row_id: integer (nullable = true)\n",
      " |-- transaction_type: string (nullable = true)\n",
      " |-- amount: float (nullable = true)\n",
      " |-- oldbalanceorg: float (nullable = true)\n",
      " |-- newbalanceorig: float (nullable = true)\n",
      " |-- oldbalancedest: float (nullable = true)\n",
      " |-- newbalancedest: float (nullable = true)\n",
      " |-- isfraud: integer (nullable = true)\n",
      "\n"
     ]
    }
   ],
   "source": [
    "#Visualizing the types of each columns #1\n",
    "df_new.printSchema()"
   ]
  },
  {
   "cell_type": "code",
   "execution_count": 20,
   "metadata": {},
   "outputs": [
    {
     "name": "stdout",
     "output_type": "stream",
     "text": [
      "Total Amount of Rows: 1020002\n",
      "Total Amount of Columns: 8\n"
     ]
    }
   ],
   "source": [
    " #z-score scaling\n",
    "\n",
    "# List of columns to scale (exclude \"transaction_type\", \"isfraud\", and \"row_id\")\n",
    "columns_to_scale = [\"amount\", \"oldbalanceorg\", \"newbalanceorig\", \"oldbalancedest\", \"newbalancedest\"]\n",
    "\n",
    "# Create a VectorAssembler to assemble the selected columns into a feature vector\n",
    "assembler = VectorAssembler(inputCols=columns_to_scale, outputCol=\"scaled_features\")\n",
    "\n",
    "# Assemble the features into a vector\n",
    "df_assembled = assembler.transform(df)\n",
    "\n",
    "# Create a StandardScaler object\n",
    "scaler = StandardScaler(inputCol=\"scaled_features\", outputCol=\"scaled_features_scaled\", withMean=True, withStd=True)\n",
    "\n",
    "# Fit and transform the DataFrame\n",
    "scaler_model = scaler.fit(df_assembled)\n",
    "scaled_df = scaler_model.transform(df_assembled)\n",
    "\n",
    "# Show the resulting DataFrame with scaled features\n",
    "scaled_df.show()\n"
   ]
  },
  {
   "cell_type": "markdown",
   "metadata": {},
   "source": [
    "## Load bak to Hive"
   ]
  },
  {
   "cell_type": "code",
   "execution_count": null,
   "metadata": {},
   "outputs": [],
   "source": [
    "# Overwrite existing Hive table\n",
    "scaled_df.write.mode(\"overwrite\").saveAsTable(\"your_hive_database.your_hive_table\")\n"
   ]
  },
  {
   "cell_type": "markdown",
   "metadata": {},
   "source": [
    "## Save using other Pyspark formats"
   ]
  },
  {
   "cell_type": "code",
   "execution_count": null,
   "metadata": {},
   "outputs": [],
   "source": [
    "# Save as Parquet\n",
    "scaled_df.write.parquet(\"path_to_save/your_file.parquet\")\n",
    "\n",
    "# Save as Avro\n",
    "scaled_df.write.format(\"avro\").save(\"path_to_save/your_file.avro\")\n",
    "\n",
    "# Save as ORC\n",
    "scaled_df.write.orc(\"path_to_save/your_file.orc\")\n",
    "\n",
    "# Save as JSON\n",
    "scaled_df.write.json(\"path_to_save/your_file.json\")"
   ]
  }
 ],
 "metadata": {
  "kernelspec": {
   "display_name": "Python 3",
   "language": "python",
   "name": "python3"
  },
  "language_info": {
   "codemirror_mode": {
    "name": "ipython",
    "version": 3
   },
   "file_extension": ".py",
   "mimetype": "text/x-python",
   "name": "python",
   "nbconvert_exporter": "python",
   "pygments_lexer": "ipython3",
   "version": "3.6.8"
  }
 },
 "nbformat": 4,
 "nbformat_minor": 2
}
